{
 "cells": [
  {
   "cell_type": "markdown",
   "metadata": {},
   "source": [
    "Harmonic Oscillator Coherent States\n",
    "----------------------------------------\n",
    "\n",
    "This notebook shows some properties of harmonic oscillator coherent states (see also\n",
    "homework problem 7.2). Such states are minimal-uncertainty wave functions: just like the ground state,\n",
    "they satisfy\n",
    "\n",
    "$$ (\\Delta x)^2 (\\Delta p)^2 = \\frac{\\hbar^2}{4}\\,,$$\n",
    "\n",
    "where $(\\Delta x)^2 = \\langle \\hat{x}^2 \\rangle - (\\langle\\hat{x}\\rangle)^2$ and similar\n",
    "for $(\\Delta p)^2$. Coherent states turn out to be natural to study\n",
    "the classical limit of quantum mechanics: they behave very much like the\n",
    "classical harmonic oscillator does.\n",
    "\n",
    "Coherent states satisfy the key relation (at $t=0$, we will look at time dependence later)\n",
    "\n",
    "$$\\hat{a}\\, \\psi_\\alpha(t,x) = \\alpha\\, \\psi_\\alpha(t,x)$$\n",
    "\n",
    "for some number $\\alpha$. The operator $\\hat{a}$ is the annihilation operator,\n",
    "\n",
    "$$\\hat{a} = \\frac{1}{\\sqrt{2m\\hbar\\omega}} ( m\\omega \\hat{x} + i \\hat{p} )\\,.$$\n",
    "\n",
    "The ground state clearly is such a state (with $\\alpha=0$). So coherent\n",
    "states are generalisation of the ground state, in the sense that they are\n",
    "eigenstates of the annihilation operator."
   ]
  },
  {
   "cell_type": "code",
   "execution_count": null,
   "metadata": {},
   "outputs": [],
   "source": [
    "from sympy import *\n",
    "from sympy.parsing.sympy_parser import parse_expr\n",
    "from sympy.plotting import plot\n",
    "\n",
    "import numpy as np\n",
    "import matplotlib.pyplot as plt\n",
    "from matplotlib import animation, rc\n",
    "from IPython.display import HTML"
   ]
  },
  {
   "cell_type": "markdown",
   "metadata": {},
   "source": [
    "The following constructs some basics: the ground state wave function, as well\n",
    "as functions which implement the action of $\\hat{a}$ and $\\hat{a}^\\dagger$ on\n",
    "a wave function. We take $m=\\hbar=1$ and set $\\omega=\\pi$ for convenience:"
   ]
  },
  {
   "cell_type": "code",
   "execution_count": null,
   "metadata": {},
   "outputs": [],
   "source": [
    "x,t = symbols('x, t')\n",
    "ground = exp( -pi*x**2/2 )\n",
    "\n",
    "def a(f):\n",
    "    \"\"\"Act with a on a given wave function.\"\"\"\n",
    "    af = 1/sqrt(2*pi)*(x*pi*f + diff(f,x))\n",
    "    return af\n",
    "\n",
    "def adagger(f):\n",
    "    \"\"\"Act with a^\\dagger on a given wave function.\"\"\"\n",
    "    adagf = 1/sqrt(2*pi)*(x*pi*f - diff(f,x))\n",
    "    return adagf"
   ]
  },
  {
   "cell_type": "markdown",
   "metadata": {},
   "source": [
    "The ground state is normalised, and annihilated by the $\\hat{a}$ operator, as it should:"
   ]
  },
  {
   "cell_type": "code",
   "execution_count": null,
   "metadata": {},
   "outputs": [],
   "source": [
    "integrate(ground**2,(x,-oo,oo))"
   ]
  },
  {
   "cell_type": "code",
   "execution_count": null,
   "metadata": {},
   "outputs": [],
   "source": [
    "a(ground)"
   ]
  },
  {
   "cell_type": "markdown",
   "metadata": {},
   "source": [
    "So we are looking for a state satisfying\n",
    "\n",
    "$$\\hat{a}\\, \\psi_\\alpha(t,x) = \\alpha\\, \\psi_\\alpha(t,x)$$\n",
    "\n",
    "We can build them from the wave functions $\\psi_n(t,x)$ which are given by\n",
    "\n",
    "$$\\psi_n(t,x) = \\frac{(\\hat{a}^\\dagger)^n}{\\sqrt{n!}} \\psi_0(t,x)\\,.$$\n",
    "\n",
    "In terms of these states, we have\n",
    "\n",
    "$$\\psi_\\alpha = e^{-\\alpha^2/2} \\sum_{n=0}^{\\infty} \\frac{\\alpha^n}{\\sqrt{n!}} \\psi_n\n",
    "= e^{-\\alpha^2/2}\\sum_{n=0}^{\\infty} \\frac{\\alpha^n}{n!} (\\hat{a}^\\dagger)^n \\psi_0\\,.$$\n",
    "\n",
    "In order to get an idea of these wave functions, we can construct an approximation of these\n",
    "coherent state by summing a finite number of terms in the sum above. The following function\n",
    "takes care of this. It also includes the effect of time-evolution, which is easy to incorporate\n",
    "because we know the time-evolution of the $\\psi_n(t,x)$:"
   ]
  },
  {
   "cell_type": "code",
   "execution_count": null,
   "metadata": {},
   "outputs": [],
   "source": [
    "def coherent(alpha, m):\n",
    "    \"\"\"Create an approximation of a coherent state.\"\"\"\n",
    "    cur=ground\n",
    "    ch=0\n",
    "    for i in range(m):\n",
    "        ch+=cur*exp(-I*pi*(i+1/2)*t)\n",
    "        ch =simplify(ch)\n",
    "        cur=1/factorial(i)*alpha*adagger(cur)\n",
    "    return exp(-alpha**2/2)*ch"
   ]
  },
  {
   "cell_type": "markdown",
   "metadata": {},
   "source": [
    "Here is an example, obtained by summing the first 5 terms of the\n",
    "state with $\\alpha=1/2$:"
   ]
  },
  {
   "cell_type": "code",
   "execution_count": null,
   "metadata": {},
   "outputs": [],
   "source": [
    "alpha=Rational(1,2)\n",
    "ch2=coherent(alpha, 5)\n",
    "ch2.subs({t:0})"
   ]
  },
  {
   "cell_type": "code",
   "execution_count": null,
   "metadata": {},
   "outputs": [],
   "source": [
    "p = plot( re(ch2.subs({t:0.6})), label=\"coherent\", xlim=[-2.5,2.5], show=False )\n",
    "p.show()"
   ]
  },
  {
   "cell_type": "markdown",
   "metadata": {},
   "source": [
    "The following cells produce a movie of the time evolution:"
   ]
  },
  {
   "cell_type": "code",
   "execution_count": null,
   "metadata": {},
   "outputs": [],
   "source": [
    "%%capture\n",
    "ch2=coherent(alpha, 8)\n",
    "fig, ax = plt.subplots();\n",
    "ax.set_xlim(( -3, 3))\n",
    "ax.set_ylim((-0.5, 1.5))\n",
    "line, = ax.plot([], [])"
   ]
  },
  {
   "cell_type": "code",
   "execution_count": null,
   "metadata": {},
   "outputs": [],
   "source": [
    "def init():\n",
    "    line.set_data([], [])\n",
    "    return (line,)"
   ]
  },
  {
   "cell_type": "code",
   "execution_count": null,
   "metadata": {},
   "outputs": [],
   "source": [
    "def animate(i):\n",
    "    global x\n",
    "    chn=lambdify(x, ch2.subs({t:i/50.0}))\n",
    "    xv = np.linspace(-3, 3, 100)\n",
    "    yv = np.abs( np.array(list(map(lambda v: chn(v), xv))) )\n",
    "    line.set_data(xv, yv)\n",
    "    return (line,)"
   ]
  },
  {
   "cell_type": "code",
   "execution_count": null,
   "metadata": {},
   "outputs": [],
   "source": [
    "anim = animation.FuncAnimation(fig, animate, init_func=init,\n",
    "                               frames=200, interval=20, \n",
    "                               blit=True)"
   ]
  },
  {
   "cell_type": "code",
   "execution_count": null,
   "metadata": {},
   "outputs": [],
   "source": [
    "HTML(anim.to_jshtml())"
   ]
  },
  {
   "cell_type": "markdown",
   "metadata": {},
   "source": [
    "An important property of these moving wave packets is that they do not spread in time."
   ]
  },
  {
   "cell_type": "markdown",
   "metadata": {},
   "source": [
    "Questions? kasper.peeters@durham.ac.uk"
   ]
  },
  {
   "cell_type": "code",
   "execution_count": null,
   "metadata": {},
   "outputs": [],
   "source": []
  }
 ],
 "metadata": {
  "kernelspec": {
   "display_name": "Python 3",
   "language": "python",
   "name": "python3"
  },
  "language_info": {
   "codemirror_mode": {
    "name": "ipython",
    "version": 3
   },
   "file_extension": ".py",
   "mimetype": "text/x-python",
   "name": "python",
   "nbconvert_exporter": "python",
   "pygments_lexer": "ipython3",
   "version": "3.6.9"
  }
 },
 "nbformat": 4,
 "nbformat_minor": 2
}
