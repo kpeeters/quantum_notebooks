{
 "cells": [
  {
   "cell_type": "code",
   "execution_count": 1,
   "metadata": {},
   "outputs": [],
   "source": [
    "import numpy as np\n",
    "import matplotlib.pyplot as plt\n",
    "from matplotlib import animation, rc\n",
    "from IPython.display import HTML"
   ]
  },
  {
   "cell_type": "code",
   "execution_count": 2,
   "metadata": {},
   "outputs": [],
   "source": [
    "def norm(x, psi):\n",
    "    dx  = x[1]-x[0]\n",
    "    nrm = np.dot( psi, np.conj(psi) )*dx\n",
    "    return nrm\n",
    "\n",
    "def gaussian(x, x0, width, p):\n",
    "    \"\"\"\n",
    "    Put a Gaussian wave function into the system. The `x0`,\n",
    "    `width` and `p` variables are in physical units.\n",
    "    \"\"\"\n",
    "    dx  = x[1]-x[0]\n",
    "    pu  = np.exp( -(x-x0)**2/width**2 + 1j*x*p)\n",
    "    nrm = norm(x, pu)\n",
    "    print(nrm)\n",
    "    pu /= np.sqrt(nrm)\n",
    "    return pu"
   ]
  },
  {
   "cell_type": "code",
   "execution_count": 3,
   "metadata": {},
   "outputs": [],
   "source": [
    "def evolve_forward(dt, V, psi):\n",
    "    \"\"\"\n",
    "    Return `psi(x, t+dt)` given `psi(x,t) = psi`.\n",
    "    \"\"\"\n",
    "    return psi + 0.5*1j*dt*( np.roll(psi,1) + np.roll(psi,-1) - 2*(1+V)*psi )"
   ]
  },
  {
   "cell_type": "code",
   "execution_count": 4,
   "metadata": {},
   "outputs": [],
   "source": [
    "def evolve_centered(dt, V, psi, psim):\n",
    "    \"\"\"\n",
    "    Return `psi(x, t+dt)` given `psi(x,t) = psi` and `psi(x, t-dt) = psim`.\n",
    "    \n",
    "    \"\"\"\n",
    "    return psim + 1j*dt*( np.roll(psi,1) + np.roll(psi,-1) - 2*(1+V)*psi )"
   ]
  },
  {
   "cell_type": "code",
   "execution_count": 5,
   "metadata": {},
   "outputs": [
    {
     "name": "stdout",
     "output_type": "stream",
     "text": [
      "(2.5066276666337455+0j)\n"
     ]
    }
   ],
   "source": [
    "N  = 800     # number of lattice points\n",
    "Bl = -25.0   # left boundary in physical units\n",
    "Br = 25.0    # right boundary in physical units\n",
    "p  = 5       # momentum in physical units\n",
    "V0 = 10\n",
    "dt = 0.25\n",
    "\n",
    "dx       = (Br-Bl)/(N-1)\n",
    "x        = np.linspace(Bl, Br, N)\n",
    "V        = np.zeros(len(x))\n",
    "psi      = gaussian(x, -20, width=2, p=p)\n",
    "psi_prev = evolve_forward(-dt, V, psi)"
   ]
  },
  {
   "cell_type": "code",
   "execution_count": 6,
   "metadata": {},
   "outputs": [
    {
     "data": {
      "text/plain": [
       "[<matplotlib.lines.Line2D at 0x7f3f2ff4c710>]"
      ]
     },
     "execution_count": 6,
     "metadata": {},
     "output_type": "execute_result"
    },
    {
     "data": {
      "image/png": "[encoded data removed]",
      "text/plain": [
       "<Figure size 432x288 with 1 Axes>"
      ]
     },
     "metadata": {
      "needs_background": "light"
     },
     "output_type": "display_data"
    }
   ],
   "source": [
    "plt.plot(x, np.real(psi) )"
   ]
  },
  {
   "cell_type": "code",
   "execution_count": 7,
   "metadata": {},
   "outputs": [],
   "source": [
    "#for i in range(10000):\n",
    "#        psi, psi_prev = evolve_centered(dt, V, psi, psi_prev), psi\n",
    "#        psisq = np.real(psi)*np.real(psi)+np.imag(psi)*np.imag(psi)\n",
    "#        nrmsq=np.sum(psisq)*dx\n",
    "#        if i%1000==0:\n",
    "#            print(nrmsq)"
   ]
  },
  {
   "cell_type": "code",
   "execution_count": 8,
   "metadata": {},
   "outputs": [],
   "source": [
    "def update_plot(n):\n",
    "    global dt, V, psi, psi_prev\n",
    "    for i in range(100):\n",
    "        psi, psi_prev = evolve_centered(dt, V, psi, psi_prev), psi\n",
    "    psisq = np.real(psi)*np.real(psi)+np.imag(psi)*np.imag(psi)\n",
    "    line[0].set_data(x, np.real(psi))\n",
    "    line[1].set_data(x, psisq)\n",
    "    #line[0].set_data(x, np.real(psi))\n",
    "    #line[1].set_data(x, np.imag(psi))\n",
    "    #\n",
    "    #nrmsq=np.sum(psisq)*dx\n",
    "    #line[2].set_data(x, psisq)\n",
    "    #line[4].set_text('$|\\psi|^2 = {}$'.format(nrmsq))\n",
    "    #line[5].set_text('$frame = {}$'.format(n))    \n",
    "    return line\n"
   ]
  },
  {
   "cell_type": "code",
   "execution_count": 9,
   "metadata": {},
   "outputs": [],
   "source": [
    "%%capture\n",
    "fig, ax = plt.subplots(2,1,sharex=True);\n",
    "ax[0].set_xlim(( Bl, Br))\n",
    "ax[0].set_ylim((-0.6, 0.6))\n",
    "ax[1].set_ylim((0, 0.5))\n",
    "line=[0,0]\n",
    "line[0], = ax[0].plot([], [])\n",
    "line[1], = ax[1].plot([], [])"
   ]
  },
  {
   "cell_type": "code",
   "execution_count": 10,
   "metadata": {},
   "outputs": [],
   "source": [
    "def init():\n",
    "    global line\n",
    "    line[0].set_data([], [])\n",
    "    line[1].set_data([], [])\n",
    "    #plt.text(-0.1,0.5, '$Re(\\psi)$', fontsize=15, transform=axs[0].transAxes)\n",
    "    #plt.text(-0.1,0.5, '$|\\psi|^2$', fontsize=15, transform=axs[1].transAxes)\n",
    "    return line"
   ]
  },
  {
   "cell_type": "code",
   "execution_count": 11,
   "metadata": {},
   "outputs": [],
   "source": [
    "anim = animation.FuncAnimation(fig, update_plot, init_func=init,\n",
    "                              frames=200, interval=80, repeat=False, blit=True )"
   ]
  },
  {
   "cell_type": "code",
   "execution_count": null,
   "metadata": {},
   "outputs": [],
   "source": [
    "HTML(anim.to_jshtml())"
   ]
  },
  {
   "cell_type": "code",
   "execution_count": null,
   "metadata": {},
   "outputs": [],
   "source": []
  },
  {
   "cell_type": "code",
   "execution_count": null,
   "metadata": {},
   "outputs": [],
   "source": []
  },
  {
   "cell_type": "code",
   "execution_count": null,
   "metadata": {},
   "outputs": [],
   "source": []
  }
 ],
 "metadata": {
  "kernelspec": {
   "display_name": "Python 3",
   "language": "python",
   "name": "python3"
  },
  "language_info": {
   "codemirror_mode": {
    "name": "ipython",
    "version": 3
   },
   "file_extension": ".py",
   "mimetype": "text/x-python",
   "name": "python",
   "nbconvert_exporter": "python",
   "pygments_lexer": "ipython3",
   "version": "3.6.9"
  }
 },
 "nbformat": 4,
 "nbformat_minor": 4
}
