{
 "cells": [
  {
   "cell_type": "markdown",
   "metadata": {},
   "source": [
    "Wave packet tunneling\n",
    "============\n",
    "\n",
    "This notebook does some simulations of a moving wave packet approaching a \n",
    "finite-size barrier. \n",
    "\n",
    "The numerical technique used here is taken from \n",
    "\n",
    "    P.B.Visscher, \"A fast explicit algorithm for the time-dependent Schrödinger equation\",\n",
    "    Computers in Physics 5, 596 (1991),\n",
    "    https://doi.org/10.1063/1.168415\n",
    "    \n",
    "This method is simpler to code than e.g. Runge-Kutta, but preserves the\n",
    "wave function norm and is stable for relatively large time steps."
   ]
  },
  {
   "cell_type": "code",
   "execution_count": null,
   "metadata": {},
   "outputs": [],
   "source": [
    "import numpy as np\n",
    "import matplotlib\n",
    "import matplotlib.pyplot as plt\n",
    "import matplotlib.animation as animation\n",
    "from IPython.display import HTML"
   ]
  },
  {
   "cell_type": "code",
   "execution_count": null,
   "metadata": {},
   "outputs": [],
   "source": [
    "def norm(x, psi):\n",
    "    \"\"\"Compute the norm of the wave function.\"\"\"\n",
    "    dx  = x[1]-x[0]\n",
    "    nrm = np.dot( psi, np.conj(psi) )*dx\n",
    "    return nrm\n",
    "\n",
    "def gaussian(x, x0, width, p):\n",
    "    \"\"\"Put a gaussian wave function on the lattice. The\n",
    "    `x0`, `width` and `p` variables are in physical \n",
    "    units.\"\"\"\n",
    "    dx  = x[1]-x[0]\n",
    "    pu  = np.exp( -(x-x0)**2/width**2 + 1j*x*p)\n",
    "    nrm = norm(x, pu)\n",
    "    pu /= np.sqrt(nrm)\n",
    "    return pu"
   ]
  },
  {
   "cell_type": "markdown",
   "metadata": {},
   "source": [
    "Evolution of the wave function is done by splitting it in real and imaginary\n",
    "parts, and then updating them on a staggered lattice. For details see the\n",
    "Visscher paper mentioned at the top of this notebook. The `evolve` function \n",
    "below takes care of this."
   ]
  },
  {
   "cell_type": "code",
   "execution_count": null,
   "metadata": {},
   "outputs": [],
   "source": [
    "def evolve(H, dt, R, I):\n",
    "    \"\"\"Given R(t) and I(t+(1/2)dt), produce R(t+dt) and I(t+(3/2)dt).\"\"\"\n",
    "    #  R(t+dt)     = R(t)        + dt H I(t+1/2dt)\n",
    "    #  I(t+3/2 dt) = I(t+1/2 dt) - dt H R(t+dt)\n",
    "    nR = R + dt*np.dot(H, I)\n",
    "    nI = I - dt*np.dot(H, nR)\n",
    "    return nR, nI"
   ]
  },
  {
   "cell_type": "markdown",
   "metadata": {},
   "source": [
    "Finally, we need some simple function to generate a step potential:"
   ]
  },
  {
   "cell_type": "code",
   "execution_count": null,
   "metadata": {},
   "outputs": [],
   "source": [
    "def Vstep(x, iv, V0):\n",
    "    \"\"\"Generate a step potential in the range given by `iv`,\n",
    "    which is in physical units.\"\"\"\n",
    "    dx     = x[1]-x[0]\n",
    "    V      = np.zeros(len(x))\n",
    "    loc    = np.where( (x > iv[0]) & (x < iv[1]) )\n",
    "    V[loc] = V0\n",
    "    return V"
   ]
  },
  {
   "cell_type": "markdown",
   "metadata": {},
   "source": [
    "Some basic parameters to set the lattice size and range, and create\n",
    "an initial wave packet with some momentum:"
   ]
  },
  {
   "cell_type": "code",
   "execution_count": null,
   "metadata": {},
   "outputs": [],
   "source": [
    "N  = 800     # number of lattice points\n",
    "Bl = -25.0   # left boundary in physical units\n",
    "Br = 25.0    # right boundary in physical units\n",
    "p  = 5       # momentum in physical units\n",
    "\n",
    "dx = (Br-Bl)/(N-1)\n",
    "x  = np.linspace(Bl, Br, N)\n",
    "psi0 = gaussian(x, -20, width=2, p=p)"
   ]
  },
  {
   "cell_type": "code",
   "execution_count": null,
   "metadata": {},
   "outputs": [],
   "source": [
    "%%capture\n",
    "figsize=(16,10)\n",
    "fig, axs = plt.subplots(4, 1, sharex=True, figsize=(16,10))   "
   ]
  },
  {
   "cell_type": "code",
   "execution_count": null,
   "metadata": {},
   "outputs": [],
   "source": [
    "%%capture\n",
    "def init():\n",
    "    \"\"\"Initialise the evolution parameters and plots for a new simulation.\"\"\"\n",
    "    global psi0, H, line, R, I, dt, V\n",
    "    plt.clf()\n",
    "    R = np.real(psi0)\n",
    "    I = np.imag(psi0)  # should be dt away\n",
    "    line=[0,0,0,0,0,0]\n",
    "    nR = R.copy()\n",
    "    nI = I.copy()\n",
    "    H = (2*np.identity(N) - np.diag( np.ones(N-1), 1) - np.diag( np.ones(N-1), -1))/2/dx**2 + np.diag(V)\n",
    "    maxdt = 1/(1/dx**2+V0)\n",
    "    dt=0.4*maxdt #0.005\n",
    "    print(\"Stable? dt < 1/(1/dx**2 + max(abs(V))): \", dt < maxdt)\n",
    "    YL=0.6\n",
    "    axs[0].set_ylim(-YL, YL)\n",
    "    axs[1].set_ylim(-YL, YL)\n",
    "    axs[2].set_ylim(0,0.4)\n",
    "    line[0]=axs[0].plot(x, R, 'b')[0]\n",
    "    line[1]=axs[1].plot(x, I, 'r')[0]\n",
    "    line[2]=axs[2].plot(x, x, 'k')[0]\n",
    "    line[3]=axs[3].plot(x, V, 'k')[0]\n",
    "    line[4]=plt.text(0,1.2, '', fontsize=15, transform=axs[0].transAxes)\n",
    "    line[5]=plt.text(0.3,1.2, '', fontsize=15, transform=axs[0].transAxes)    \n",
    "    plt.text(-0.1,0.5, '$Re(\\psi)$', fontsize=15, transform=axs[0].transAxes)\n",
    "    plt.text(-0.1,0.5, '$Im(\\psi)$', fontsize=15, transform=axs[1].transAxes)\n",
    "    plt.text(-0.1,0.5, '$|\\psi|^2$', fontsize=15, transform=axs[2].transAxes)\n",
    "    plt.text(-0.1,0.5, '$V(x)$', fontsize=15, transform=axs[3].transAxes)    \n",
    "    return line"
   ]
  },
  {
   "cell_type": "code",
   "execution_count": null,
   "metadata": {},
   "outputs": [],
   "source": [
    "def update_plot(n):\n",
    "    \"\"\"Evolve the wave function for 100 steps and then update the plots.\"\"\"\n",
    "    global R, I, nR, nI, line\n",
    "    for i in range(100):\n",
    "        nR, nI = evolve(H, dt, R, I)\n",
    "        R, I = nR, nI\n",
    "    line[0].set_data(x, nR)\n",
    "    line[1].set_data(x, nI)\n",
    "    psisq = R*R + nI*I\n",
    "    nrmsq=np.sum(psisq)*dx\n",
    "    line[2].set_data(x, psisq)\n",
    "    R, I = nR, nI\n",
    "    line[4].set_text('$|\\psi|^2 = {}$'.format(nrmsq))\n",
    "    line[5].set_text('$frame = {}$'.format(n))    \n",
    "    return line"
   ]
  },
  {
   "cell_type": "markdown",
   "metadata": {},
   "source": [
    "First a simulation without potential, just to see how the wave function spreads."
   ]
  },
  {
   "cell_type": "code",
   "execution_count": null,
   "metadata": {},
   "outputs": [],
   "source": [
    "%%capture\n",
    "V0=10\n",
    "V=np.zeros(len(x))\n",
    "init()\n",
    "anim = animation.FuncAnimation(fig, update_plot, frames=30, interval=80, repeat=False, blit=False )"
   ]
  },
  {
   "cell_type": "code",
   "execution_count": null,
   "metadata": {},
   "outputs": [],
   "source": [
    "HTML(anim.to_jshtml())"
   ]
  },
  {
   "cell_type": "code",
   "execution_count": null,
   "metadata": {},
   "outputs": [],
   "source": [
    "%%capture\n",
    "V0=10\n",
    "V = Vstep(x, [0, 1.0], V0)\n",
    "anim = animation.FuncAnimation(fig, update_plot, init_func=init, frames=30, interval=80, repeat=False, blit=False)"
   ]
  },
  {
   "cell_type": "code",
   "execution_count": null,
   "metadata": {},
   "outputs": [],
   "source": [
    "HTML(anim.to_jshtml())"
   ]
  },
  {
   "cell_type": "markdown",
   "metadata": {},
   "source": [
    "Questions? kasper.peeters@durham.ac.uk"
   ]
  }
 ],
 "metadata": {
  "kernelspec": {
   "display_name": "Python 3",
   "language": "python",
   "name": "python3"
  },
  "language_info": {
   "codemirror_mode": {
    "name": "ipython",
    "version": 3
   },
   "file_extension": ".py",
   "mimetype": "text/x-python",
   "name": "python",
   "nbconvert_exporter": "python",
   "pygments_lexer": "ipython3",
   "version": "3.6.9"
  }
 },
 "nbformat": 4,
 "nbformat_minor": 2
}
